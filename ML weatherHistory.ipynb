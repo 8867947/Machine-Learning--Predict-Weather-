{
 "cells": [
  {
   "cell_type": "code",
   "execution_count": 585,
   "metadata": {},
   "outputs": [],
   "source": [
    "import pandas as pd\n",
    "import numpy as np\n",
    "data = pd.read_csv(\"weatherHistory.csv\")"
   ]
  },
  {
   "cell_type": "code",
   "execution_count": 586,
   "metadata": {},
   "outputs": [
    {
     "data": {
      "text/html": [
       "<div>\n",
       "<style scoped>\n",
       "    .dataframe tbody tr th:only-of-type {\n",
       "        vertical-align: middle;\n",
       "    }\n",
       "\n",
       "    .dataframe tbody tr th {\n",
       "        vertical-align: top;\n",
       "    }\n",
       "\n",
       "    .dataframe thead th {\n",
       "        text-align: right;\n",
       "    }\n",
       "</style>\n",
       "<table border=\"1\" class=\"dataframe\">\n",
       "  <thead>\n",
       "    <tr style=\"text-align: right;\">\n",
       "      <th></th>\n",
       "      <th>Formatted Date</th>\n",
       "      <th>Summary</th>\n",
       "      <th>Precip Type</th>\n",
       "      <th>Temperature (C)</th>\n",
       "      <th>Apparent Temperature (C)</th>\n",
       "      <th>Humidity</th>\n",
       "      <th>Wind Speed (km/h)</th>\n",
       "      <th>Wind Bearing (degrees)</th>\n",
       "      <th>Visibility (km)</th>\n",
       "      <th>Loud Cover</th>\n",
       "      <th>Pressure (millibars)</th>\n",
       "      <th>Daily Summary</th>\n",
       "    </tr>\n",
       "  </thead>\n",
       "  <tbody>\n",
       "    <tr>\n",
       "      <th>0</th>\n",
       "      <td>2006-04-01 00:00:00.000 +0200</td>\n",
       "      <td>Partly Cloudy</td>\n",
       "      <td>rain</td>\n",
       "      <td>9.472222</td>\n",
       "      <td>7.388889</td>\n",
       "      <td>0.89</td>\n",
       "      <td>14.1197</td>\n",
       "      <td>251.0</td>\n",
       "      <td>15.8263</td>\n",
       "      <td>0.0</td>\n",
       "      <td>1015.13</td>\n",
       "      <td>Partly cloudy throughout the day.</td>\n",
       "    </tr>\n",
       "    <tr>\n",
       "      <th>1</th>\n",
       "      <td>2006-04-01 01:00:00.000 +0200</td>\n",
       "      <td>Partly Cloudy</td>\n",
       "      <td>rain</td>\n",
       "      <td>9.355556</td>\n",
       "      <td>7.227778</td>\n",
       "      <td>0.86</td>\n",
       "      <td>14.2646</td>\n",
       "      <td>259.0</td>\n",
       "      <td>15.8263</td>\n",
       "      <td>0.0</td>\n",
       "      <td>1015.63</td>\n",
       "      <td>Partly cloudy throughout the day.</td>\n",
       "    </tr>\n",
       "    <tr>\n",
       "      <th>2</th>\n",
       "      <td>2006-04-01 02:00:00.000 +0200</td>\n",
       "      <td>Mostly Cloudy</td>\n",
       "      <td>rain</td>\n",
       "      <td>9.377778</td>\n",
       "      <td>9.377778</td>\n",
       "      <td>0.89</td>\n",
       "      <td>3.9284</td>\n",
       "      <td>204.0</td>\n",
       "      <td>14.9569</td>\n",
       "      <td>0.0</td>\n",
       "      <td>1015.94</td>\n",
       "      <td>Partly cloudy throughout the day.</td>\n",
       "    </tr>\n",
       "    <tr>\n",
       "      <th>3</th>\n",
       "      <td>2006-04-01 03:00:00.000 +0200</td>\n",
       "      <td>Partly Cloudy</td>\n",
       "      <td>rain</td>\n",
       "      <td>8.288889</td>\n",
       "      <td>5.944444</td>\n",
       "      <td>0.83</td>\n",
       "      <td>14.1036</td>\n",
       "      <td>269.0</td>\n",
       "      <td>15.8263</td>\n",
       "      <td>0.0</td>\n",
       "      <td>1016.41</td>\n",
       "      <td>Partly cloudy throughout the day.</td>\n",
       "    </tr>\n",
       "    <tr>\n",
       "      <th>4</th>\n",
       "      <td>2006-04-01 04:00:00.000 +0200</td>\n",
       "      <td>Mostly Cloudy</td>\n",
       "      <td>rain</td>\n",
       "      <td>8.755556</td>\n",
       "      <td>6.977778</td>\n",
       "      <td>0.83</td>\n",
       "      <td>11.0446</td>\n",
       "      <td>259.0</td>\n",
       "      <td>15.8263</td>\n",
       "      <td>0.0</td>\n",
       "      <td>1016.51</td>\n",
       "      <td>Partly cloudy throughout the day.</td>\n",
       "    </tr>\n",
       "  </tbody>\n",
       "</table>\n",
       "</div>"
      ],
      "text/plain": [
       "                  Formatted Date        Summary Precip Type  Temperature (C)  \\\n",
       "0  2006-04-01 00:00:00.000 +0200  Partly Cloudy        rain         9.472222   \n",
       "1  2006-04-01 01:00:00.000 +0200  Partly Cloudy        rain         9.355556   \n",
       "2  2006-04-01 02:00:00.000 +0200  Mostly Cloudy        rain         9.377778   \n",
       "3  2006-04-01 03:00:00.000 +0200  Partly Cloudy        rain         8.288889   \n",
       "4  2006-04-01 04:00:00.000 +0200  Mostly Cloudy        rain         8.755556   \n",
       "\n",
       "   Apparent Temperature (C)  Humidity  Wind Speed (km/h)  \\\n",
       "0                  7.388889      0.89            14.1197   \n",
       "1                  7.227778      0.86            14.2646   \n",
       "2                  9.377778      0.89             3.9284   \n",
       "3                  5.944444      0.83            14.1036   \n",
       "4                  6.977778      0.83            11.0446   \n",
       "\n",
       "   Wind Bearing (degrees)  Visibility (km)  Loud Cover  Pressure (millibars)  \\\n",
       "0                   251.0          15.8263         0.0               1015.13   \n",
       "1                   259.0          15.8263         0.0               1015.63   \n",
       "2                   204.0          14.9569         0.0               1015.94   \n",
       "3                   269.0          15.8263         0.0               1016.41   \n",
       "4                   259.0          15.8263         0.0               1016.51   \n",
       "\n",
       "                       Daily Summary  \n",
       "0  Partly cloudy throughout the day.  \n",
       "1  Partly cloudy throughout the day.  \n",
       "2  Partly cloudy throughout the day.  \n",
       "3  Partly cloudy throughout the day.  \n",
       "4  Partly cloudy throughout the day.  "
      ]
     },
     "execution_count": 586,
     "metadata": {},
     "output_type": "execute_result"
    }
   ],
   "source": [
    "data.head()"
   ]
  },
  {
   "cell_type": "code",
   "execution_count": 587,
   "metadata": {},
   "outputs": [
    {
     "data": {
      "text/plain": [
       "Index(['Formatted Date', 'Summary', 'Precip Type', 'Temperature (C)',\n",
       "       'Apparent Temperature (C)', 'Humidity', 'Wind Speed (km/h)',\n",
       "       'Wind Bearing (degrees)', 'Visibility (km)', 'Loud Cover',\n",
       "       'Pressure (millibars)', 'Daily Summary'],\n",
       "      dtype='object')"
      ]
     },
     "execution_count": 587,
     "metadata": {},
     "output_type": "execute_result"
    }
   ],
   "source": [
    "data.columns"
   ]
  },
  {
   "cell_type": "code",
   "execution_count": 588,
   "metadata": {},
   "outputs": [
    {
     "data": {
      "text/plain": [
       "Formatted Date               object\n",
       "Summary                      object\n",
       "Precip Type                  object\n",
       "Temperature (C)             float64\n",
       "Apparent Temperature (C)    float64\n",
       "Humidity                    float64\n",
       "Wind Speed (km/h)           float64\n",
       "Wind Bearing (degrees)      float64\n",
       "Visibility (km)             float64\n",
       "Loud Cover                  float64\n",
       "Pressure (millibars)        float64\n",
       "Daily Summary                object\n",
       "dtype: object"
      ]
     },
     "execution_count": 588,
     "metadata": {},
     "output_type": "execute_result"
    }
   ],
   "source": [
    "data.dtypes"
   ]
  },
  {
   "cell_type": "code",
   "execution_count": 589,
   "metadata": {},
   "outputs": [
    {
     "name": "stdout",
     "output_type": "stream",
     "text": [
      "<class 'pandas.core.frame.DataFrame'>\n",
      "RangeIndex: 96453 entries, 0 to 96452\n",
      "Data columns (total 12 columns):\n",
      " #   Column                    Non-Null Count  Dtype  \n",
      "---  ------                    --------------  -----  \n",
      " 0   Formatted Date            96453 non-null  object \n",
      " 1   Summary                   96453 non-null  object \n",
      " 2   Precip Type               95936 non-null  object \n",
      " 3   Temperature (C)           96453 non-null  float64\n",
      " 4   Apparent Temperature (C)  96453 non-null  float64\n",
      " 5   Humidity                  96453 non-null  float64\n",
      " 6   Wind Speed (km/h)         96453 non-null  float64\n",
      " 7   Wind Bearing (degrees)    96453 non-null  float64\n",
      " 8   Visibility (km)           96453 non-null  float64\n",
      " 9   Loud Cover                96453 non-null  float64\n",
      " 10  Pressure (millibars)      96453 non-null  float64\n",
      " 11  Daily Summary             96453 non-null  object \n",
      "dtypes: float64(8), object(4)\n",
      "memory usage: 8.8+ MB\n"
     ]
    }
   ],
   "source": [
    "data.info()"
   ]
  },
  {
   "cell_type": "code",
   "execution_count": 590,
   "metadata": {},
   "outputs": [
    {
     "name": "stdout",
     "output_type": "stream",
     "text": [
      "Index(['Formatted Date', 'Summary', 'Precip Type', 'Daily Summary'], dtype='object')\n"
     ]
    }
   ],
   "source": [
    "#Categorical variables:\n",
    "categorical = data.select_dtypes(include = [\"object\"]).keys()\n",
    "print(categorical)"
   ]
  },
  {
   "cell_type": "code",
   "execution_count": 591,
   "metadata": {},
   "outputs": [
    {
     "data": {
      "text/plain": [
       "array(['Partly cloudy throughout the day.',\n",
       "       'Mostly cloudy throughout the day.', 'Foggy in the evening.',\n",
       "       'Foggy overnight and breezy in the morning.',\n",
       "       'Overcast throughout the day.', 'Partly cloudy until night.',\n",
       "       'Mostly cloudy until night.',\n",
       "       'Foggy starting overnight continuing until morning.',\n",
       "       'Foggy in the morning.', 'Partly cloudy until evening.',\n",
       "       'Partly cloudy starting in the morning.',\n",
       "       'Mostly cloudy starting overnight continuing until night.',\n",
       "       'Mostly cloudy until evening.',\n",
       "       'Partly cloudy starting in the morning continuing until evening.',\n",
       "       'Partly cloudy starting in the afternoon.',\n",
       "       'Partly cloudy starting overnight.',\n",
       "       'Partly cloudy until morning.',\n",
       "       'Partly cloudy starting overnight continuing until night.',\n",
       "       'Partly cloudy starting in the afternoon continuing until night.',\n",
       "       'Mostly cloudy starting overnight.',\n",
       "       'Partly cloudy until afternoon.',\n",
       "       'Mostly cloudy until night and breezy in the afternoon.',\n",
       "       'Foggy starting in the evening.', 'Foggy throughout the day.',\n",
       "       'Foggy starting in the evening continuing until night.',\n",
       "       'Mostly cloudy until morning.',\n",
       "       'Foggy starting in the morning continuing until evening.',\n",
       "       'Foggy starting overnight continuing until afternoon.',\n",
       "       'Partly cloudy starting in the morning continuing until afternoon.',\n",
       "       'Foggy starting overnight.', 'Foggy until morning.',\n",
       "       'Foggy starting overnight continuing until evening.',\n",
       "       'Foggy starting in the afternoon.',\n",
       "       'Partly cloudy starting overnight continuing until afternoon.',\n",
       "       'Partly cloudy starting in the morning continuing until night.',\n",
       "       'Overcast until night.',\n",
       "       'Mostly cloudy starting overnight continuing until evening.',\n",
       "       'Foggy overnight.', 'Partly cloudy in the morning.',\n",
       "       'Mostly cloudy starting in the morning.',\n",
       "       'Foggy starting in the afternoon continuing until evening.',\n",
       "       'Mostly cloudy until afternoon.',\n",
       "       'Foggy starting overnight continuing until night.',\n",
       "       'Mostly cloudy throughout the day and breezy in the evening.',\n",
       "       'Foggy starting in the morning continuing until afternoon.',\n",
       "       'Partly cloudy in the afternoon.', 'Clear throughout the day.',\n",
       "       'Partly cloudy starting in the afternoon continuing until evening.',\n",
       "       'Partly cloudy overnight.', 'Overcast until evening.',\n",
       "       'Foggy in the morning and breezy starting in the afternoon continuing until night.',\n",
       "       'Breezy starting overnight continuing until afternoon and foggy starting in the morning continuing until evening.',\n",
       "       'Partly cloudy starting overnight continuing until morning.',\n",
       "       'Mostly cloudy throughout the day and breezy in the afternoon.',\n",
       "       'Mostly cloudy starting overnight and breezy in the afternoon.',\n",
       "       'Partly cloudy throughout the day and breezy starting in the morning continuing until night.',\n",
       "       'Mostly cloudy throughout the day and breezy in the morning.',\n",
       "       'Partly cloudy starting in the evening continuing until night.',\n",
       "       'Mostly cloudy until night and breezy starting in the morning continuing until afternoon.',\n",
       "       'Partly cloudy starting in the morning continuing until evening and breezy starting in the morning continuing until afternoon.',\n",
       "       'Partly cloudy throughout the day and breezy starting in the morning continuing until afternoon.',\n",
       "       'Partly cloudy throughout the day and breezy starting in the morning continuing until evening.',\n",
       "       'Foggy until afternoon.',\n",
       "       'Overcast until night and breezy overnight.',\n",
       "       'Breezy until morning and mostly cloudy throughout the day.',\n",
       "       'Mostly cloudy starting in the morning continuing until night.',\n",
       "       'Breezy starting overnight continuing until morning and partly cloudy starting overnight continuing until evening.',\n",
       "       'Partly cloudy in the evening.',\n",
       "       'Mostly cloudy starting overnight continuing until afternoon.',\n",
       "       'Mostly cloudy starting in the morning continuing until afternoon.',\n",
       "       'Mostly cloudy starting in the afternoon.',\n",
       "       'Mostly cloudy starting in the morning continuing until evening.',\n",
       "       'Partly cloudy starting overnight continuing until afternoon and breezy in the afternoon.',\n",
       "       'Partly cloudy starting overnight and breezy in the afternoon.',\n",
       "       'Mostly cloudy starting in the morning and breezy in the evening.',\n",
       "       'Foggy starting in the afternoon continuing until night.',\n",
       "       'Foggy until night.',\n",
       "       'Foggy starting in the morning continuing until night.',\n",
       "       'Foggy until evening.', 'Foggy starting in the morning.',\n",
       "       'Partly cloudy starting overnight continuing until evening.',\n",
       "       'Partly cloudy starting overnight continuing until evening and breezy starting in the morning continuing until evening.',\n",
       "       'Breezy starting overnight continuing until morning and foggy in the evening.',\n",
       "       'Mostly cloudy throughout the day and breezy starting in the morning continuing until evening.',\n",
       "       'Partly cloudy until evening and breezy starting in the morning continuing until afternoon.',\n",
       "       'Mostly cloudy starting in the afternoon continuing until night.',\n",
       "       'Breezy starting overnight continuing until afternoon and mostly cloudy starting overnight continuing until evening.',\n",
       "       'Mostly cloudy throughout the day and windy starting in the morning continuing until evening.',\n",
       "       'Breezy and partly cloudy in the afternoon.',\n",
       "       'Mostly cloudy starting overnight and breezy starting in the morning continuing until afternoon.',\n",
       "       'Partly cloudy until night and breezy starting in the morning continuing until afternoon.',\n",
       "       'Breezy and mostly cloudy overnight.',\n",
       "       'Mostly cloudy throughout the day and breezy overnight.',\n",
       "       'Mostly cloudy throughout the day and breezy starting in the morning continuing until afternoon.',\n",
       "       'Partly cloudy throughout the day and breezy in the morning.',\n",
       "       'Partly cloudy starting in the morning continuing until evening and breezy starting in the afternoon continuing until evening.',\n",
       "       'Partly cloudy throughout the day and breezy starting in the afternoon continuing until evening.',\n",
       "       'Mostly cloudy starting overnight and breezy in the morning.',\n",
       "       'Partly cloudy starting in the afternoon and breezy in the afternoon.',\n",
       "       'Partly cloudy starting in the morning and breezy in the evening.',\n",
       "       'Partly cloudy until evening and breezy in the morning.',\n",
       "       'Partly cloudy starting overnight continuing until evening and breezy starting in the morning continuing until afternoon.',\n",
       "       'Partly cloudy starting overnight continuing until evening and breezy in the evening.',\n",
       "       'Mostly cloudy throughout the day and breezy starting in the evening.',\n",
       "       'Mostly cloudy throughout the day and windy starting in the morning continuing until night.',\n",
       "       'Breezy starting overnight continuing until morning and partly cloudy starting in the morning.',\n",
       "       'Mostly cloudy starting in the morning and breezy overnight.',\n",
       "       'Overcast throughout the day and breezy starting overnight continuing until morning.',\n",
       "       'Partly cloudy throughout the day and breezy in the evening.',\n",
       "       'Mostly cloudy until evening and breezy starting in the morning continuing until afternoon.',\n",
       "       'Mostly cloudy until night and breezy in the evening.',\n",
       "       'Partly cloudy starting in the evening.',\n",
       "       'Overcast starting in the morning.',\n",
       "       'Mostly cloudy starting overnight continuing until evening and breezy starting overnight continuing until morning.',\n",
       "       'Partly cloudy starting overnight continuing until morning and breezy starting in the morning continuing until afternoon.',\n",
       "       'Partly cloudy until evening and breezy starting in the morning continuing until evening.',\n",
       "       'Breezy starting in the morning continuing until afternoon and partly cloudy starting in the morning.',\n",
       "       'Partly cloudy starting in the morning and breezy starting in the afternoon continuing until evening.',\n",
       "       'Mostly cloudy starting overnight continuing until morning.',\n",
       "       'Mostly cloudy throughout the day and breezy starting overnight continuing until afternoon.',\n",
       "       'Breezy starting overnight continuing until morning and foggy overnight.',\n",
       "       'Mostly cloudy throughout the day and breezy starting overnight continuing until morning.',\n",
       "       'Overcast throughout the day and breezy in the morning.',\n",
       "       'Overcast throughout the day and breezy in the evening.',\n",
       "       'Mostly cloudy starting in the morning continuing until night and breezy in the afternoon.',\n",
       "       'Mostly cloudy until night and breezy starting in the evening continuing until night.',\n",
       "       'Partly cloudy until night and breezy in the morning.',\n",
       "       'Partly cloudy until evening and breezy overnight.',\n",
       "       'Partly cloudy starting overnight continuing until night and windy starting in the morning continuing until afternoon.',\n",
       "       'Breezy starting in the morning continuing until afternoon and mostly cloudy starting in the morning.',\n",
       "       'Foggy starting overnight continuing until morning and breezy starting in the evening.',\n",
       "       'Mostly cloudy until night and breezy starting in the afternoon.',\n",
       "       'Foggy in the afternoon.',\n",
       "       'Mostly cloudy until night and breezy starting in the afternoon continuing until night.',\n",
       "       'Foggy starting overnight continuing until morning and breezy starting in the evening continuing until night.',\n",
       "       'Breezy until afternoon and mostly cloudy throughout the day.',\n",
       "       'Mostly cloudy throughout the day and breezy starting in the morning continuing until night.',\n",
       "       'Partly cloudy starting overnight continuing until evening and breezy in the morning.',\n",
       "       'Mostly cloudy starting in the morning and breezy in the afternoon.',\n",
       "       'Mostly cloudy starting overnight continuing until night and breezy starting in the morning continuing until evening.',\n",
       "       'Foggy starting overnight continuing until morning and breezy starting in the morning continuing until afternoon.',\n",
       "       'Mostly cloudy until evening and windy starting in the morning continuing until afternoon.',\n",
       "       'Foggy starting overnight continuing until afternoon and breezy in the morning.',\n",
       "       'Foggy starting in the morning continuing until afternoon and breezy starting in the evening.',\n",
       "       'Partly cloudy starting overnight and breezy starting in the morning continuing until afternoon.',\n",
       "       'Foggy starting overnight continuing until morning and breezy in the afternoon.',\n",
       "       'Mostly cloudy starting overnight and breezy starting in the afternoon continuing until evening.',\n",
       "       'Overcast throughout the day and breezy starting overnight continuing until afternoon.',\n",
       "       'Partly cloudy starting in the morning continuing until evening and breezy in the afternoon.',\n",
       "       'Partly cloudy starting in the morning continuing until night and breezy starting in the afternoon continuing until evening.',\n",
       "       'Mostly cloudy until night and breezy starting in the evening.',\n",
       "       'Breezy in the morning and mostly cloudy starting in the morning.',\n",
       "       'Mostly cloudy until night and breezy starting in the morning continuing until evening.',\n",
       "       'Partly cloudy starting overnight continuing until evening and windy starting in the morning continuing until evening.',\n",
       "       'Breezy in the morning and partly cloudy starting in the evening continuing until night.',\n",
       "       'Partly cloudy overnight and breezy starting in the morning continuing until afternoon.',\n",
       "       'Light rain in the morning.', 'Light rain until morning.',\n",
       "       'Light rain in the morning and afternoon.',\n",
       "       'Partly cloudy starting in the morning continuing until night and breezy starting in the morning continuing until afternoon.',\n",
       "       'Breezy starting in the afternoon continuing until night and mostly cloudy starting in the evening.',\n",
       "       'Mostly cloudy throughout the day and breezy starting in the evening continuing until night.',\n",
       "       'Foggy starting in the afternoon and breezy starting in the afternoon continuing until evening.',\n",
       "       'Breezy and foggy until morning.',\n",
       "       'Mostly cloudy until night and breezy starting overnight continuing until morning.',\n",
       "       'Partly cloudy starting overnight continuing until night and breezy in the morning.',\n",
       "       'Partly cloudy starting overnight continuing until night and breezy in the afternoon.',\n",
       "       'Mostly cloudy starting in the morning and breezy starting in the afternoon continuing until evening.',\n",
       "       'Partly cloudy starting overnight and breezy starting in the evening.',\n",
       "       'Breezy overnight and overcast throughout the day.',\n",
       "       'Partly cloudy until night and breezy in the afternoon.',\n",
       "       'Mostly cloudy starting overnight and breezy starting in the evening.',\n",
       "       'Breezy overnight and partly cloudy until evening.',\n",
       "       'Mostly cloudy starting in the evening.',\n",
       "       'Mostly cloudy throughout the day and breezy starting in the afternoon.',\n",
       "       'Mostly cloudy throughout the day and breezy starting in the afternoon continuing until evening.',\n",
       "       'Mostly cloudy until night and windy starting in the morning continuing until afternoon.',\n",
       "       'Breezy and foggy starting in the evening.',\n",
       "       'Breezy overnight and partly cloudy throughout the day.',\n",
       "       'Overcast throughout the day and breezy starting in the evening.',\n",
       "       'Breezy until evening and foggy in the morning.',\n",
       "       'Breezy overnight and mostly cloudy throughout the day.',\n",
       "       'Partly cloudy until evening and breezy in the afternoon.',\n",
       "       'Partly cloudy starting in the morning and breezy starting in the morning continuing until afternoon.',\n",
       "       'Mostly cloudy until evening and breezy in the evening.',\n",
       "       'Windy in the afternoon.', 'Overcast until morning.',\n",
       "       'Mostly cloudy overnight.',\n",
       "       'Foggy starting in the morning continuing until evening and breezy in the evening.',\n",
       "       'Breezy starting overnight continuing until morning.',\n",
       "       'Breezy starting in the afternoon continuing until evening and foggy starting in the evening.',\n",
       "       'Mostly cloudy until night and breezy overnight.',\n",
       "       'Mostly cloudy starting in the morning and windy in the evening.',\n",
       "       'Partly cloudy throughout the day and windy starting in the morning continuing until afternoon.',\n",
       "       'Breezy until afternoon and overcast throughout the day.',\n",
       "       'Breezy in the morning and foggy in the evening.',\n",
       "       'Breezy starting in the afternoon continuing until evening and foggy in the evening.',\n",
       "       'Breezy starting in the morning continuing until night.',\n",
       "       'Breezy in the morning and mostly cloudy starting in the evening.',\n",
       "       'Mostly cloudy until evening and breezy in the afternoon.',\n",
       "       'Mostly cloudy until night and breezy starting in the afternoon continuing until evening.',\n",
       "       'Mostly cloudy until evening and breezy starting overnight continuing until morning.',\n",
       "       'Overcast throughout the day and breezy in the afternoon.',\n",
       "       'Overcast throughout the day and breezy starting in the morning continuing until evening.',\n",
       "       'Overcast throughout the day and breezy overnight.',\n",
       "       'Overcast starting in the afternoon.',\n",
       "       'Partly cloudy throughout the day and breezy in the afternoon.',\n",
       "       'Light rain starting overnight.',\n",
       "       'Drizzle starting in the evening.', 'Drizzle until morning.',\n",
       "       'Rain throughout the day.', 'Rain until morning.',\n",
       "       'Light rain overnight.', 'Rain until afternoon.'], dtype=object)"
      ]
     },
     "execution_count": 591,
     "metadata": {},
     "output_type": "execute_result"
    }
   ],
   "source": [
    "data['Daily Summary'].unique()"
   ]
  },
  {
   "cell_type": "code",
   "execution_count": 592,
   "metadata": {},
   "outputs": [
    {
     "name": "stdout",
     "output_type": "stream",
     "text": [
      "Index(['Temperature (C)', 'Apparent Temperature (C)', 'Humidity',\n",
      "       'Wind Speed (km/h)', 'Wind Bearing (degrees)', 'Visibility (km)',\n",
      "       'Loud Cover', 'Pressure (millibars)'],\n",
      "      dtype='object')\n"
     ]
    }
   ],
   "source": [
    "#Quantitative variables:\n",
    "quantitative = data.select_dtypes(include = [\"int64\",\"float64\"]).keys()\n",
    "print(quantitative)"
   ]
  },
  {
   "cell_type": "code",
   "execution_count": 593,
   "metadata": {},
   "outputs": [
    {
     "data": {
      "text/html": [
       "<div>\n",
       "<style scoped>\n",
       "    .dataframe tbody tr th:only-of-type {\n",
       "        vertical-align: middle;\n",
       "    }\n",
       "\n",
       "    .dataframe tbody tr th {\n",
       "        vertical-align: top;\n",
       "    }\n",
       "\n",
       "    .dataframe thead th {\n",
       "        text-align: right;\n",
       "    }\n",
       "</style>\n",
       "<table border=\"1\" class=\"dataframe\">\n",
       "  <thead>\n",
       "    <tr style=\"text-align: right;\">\n",
       "      <th></th>\n",
       "      <th>Temperature (C)</th>\n",
       "      <th>Apparent Temperature (C)</th>\n",
       "      <th>Humidity</th>\n",
       "      <th>Wind Speed (km/h)</th>\n",
       "      <th>Wind Bearing (degrees)</th>\n",
       "      <th>Visibility (km)</th>\n",
       "      <th>Loud Cover</th>\n",
       "      <th>Pressure (millibars)</th>\n",
       "    </tr>\n",
       "  </thead>\n",
       "  <tbody>\n",
       "    <tr>\n",
       "      <th>count</th>\n",
       "      <td>96453.000000</td>\n",
       "      <td>96453.000000</td>\n",
       "      <td>96453.000000</td>\n",
       "      <td>96453.000000</td>\n",
       "      <td>96453.000000</td>\n",
       "      <td>96453.000000</td>\n",
       "      <td>96453.0</td>\n",
       "      <td>96453.000000</td>\n",
       "    </tr>\n",
       "    <tr>\n",
       "      <th>mean</th>\n",
       "      <td>11.932678</td>\n",
       "      <td>10.855029</td>\n",
       "      <td>0.734899</td>\n",
       "      <td>10.810640</td>\n",
       "      <td>187.509232</td>\n",
       "      <td>10.347325</td>\n",
       "      <td>0.0</td>\n",
       "      <td>1003.235956</td>\n",
       "    </tr>\n",
       "    <tr>\n",
       "      <th>std</th>\n",
       "      <td>9.551546</td>\n",
       "      <td>10.696847</td>\n",
       "      <td>0.195473</td>\n",
       "      <td>6.913571</td>\n",
       "      <td>107.383428</td>\n",
       "      <td>4.192123</td>\n",
       "      <td>0.0</td>\n",
       "      <td>116.969906</td>\n",
       "    </tr>\n",
       "    <tr>\n",
       "      <th>min</th>\n",
       "      <td>-21.822222</td>\n",
       "      <td>-27.716667</td>\n",
       "      <td>0.000000</td>\n",
       "      <td>0.000000</td>\n",
       "      <td>0.000000</td>\n",
       "      <td>0.000000</td>\n",
       "      <td>0.0</td>\n",
       "      <td>0.000000</td>\n",
       "    </tr>\n",
       "    <tr>\n",
       "      <th>25%</th>\n",
       "      <td>4.688889</td>\n",
       "      <td>2.311111</td>\n",
       "      <td>0.600000</td>\n",
       "      <td>5.828200</td>\n",
       "      <td>116.000000</td>\n",
       "      <td>8.339800</td>\n",
       "      <td>0.0</td>\n",
       "      <td>1011.900000</td>\n",
       "    </tr>\n",
       "    <tr>\n",
       "      <th>50%</th>\n",
       "      <td>12.000000</td>\n",
       "      <td>12.000000</td>\n",
       "      <td>0.780000</td>\n",
       "      <td>9.965900</td>\n",
       "      <td>180.000000</td>\n",
       "      <td>10.046400</td>\n",
       "      <td>0.0</td>\n",
       "      <td>1016.450000</td>\n",
       "    </tr>\n",
       "    <tr>\n",
       "      <th>75%</th>\n",
       "      <td>18.838889</td>\n",
       "      <td>18.838889</td>\n",
       "      <td>0.890000</td>\n",
       "      <td>14.135800</td>\n",
       "      <td>290.000000</td>\n",
       "      <td>14.812000</td>\n",
       "      <td>0.0</td>\n",
       "      <td>1021.090000</td>\n",
       "    </tr>\n",
       "    <tr>\n",
       "      <th>max</th>\n",
       "      <td>39.905556</td>\n",
       "      <td>39.344444</td>\n",
       "      <td>1.000000</td>\n",
       "      <td>63.852600</td>\n",
       "      <td>359.000000</td>\n",
       "      <td>16.100000</td>\n",
       "      <td>0.0</td>\n",
       "      <td>1046.380000</td>\n",
       "    </tr>\n",
       "  </tbody>\n",
       "</table>\n",
       "</div>"
      ],
      "text/plain": [
       "       Temperature (C)  Apparent Temperature (C)      Humidity  \\\n",
       "count     96453.000000              96453.000000  96453.000000   \n",
       "mean         11.932678                 10.855029      0.734899   \n",
       "std           9.551546                 10.696847      0.195473   \n",
       "min         -21.822222                -27.716667      0.000000   \n",
       "25%           4.688889                  2.311111      0.600000   \n",
       "50%          12.000000                 12.000000      0.780000   \n",
       "75%          18.838889                 18.838889      0.890000   \n",
       "max          39.905556                 39.344444      1.000000   \n",
       "\n",
       "       Wind Speed (km/h)  Wind Bearing (degrees)  Visibility (km)  Loud Cover  \\\n",
       "count       96453.000000            96453.000000     96453.000000     96453.0   \n",
       "mean           10.810640              187.509232        10.347325         0.0   \n",
       "std             6.913571              107.383428         4.192123         0.0   \n",
       "min             0.000000                0.000000         0.000000         0.0   \n",
       "25%             5.828200              116.000000         8.339800         0.0   \n",
       "50%             9.965900              180.000000        10.046400         0.0   \n",
       "75%            14.135800              290.000000        14.812000         0.0   \n",
       "max            63.852600              359.000000        16.100000         0.0   \n",
       "\n",
       "       Pressure (millibars)  \n",
       "count          96453.000000  \n",
       "mean            1003.235956  \n",
       "std              116.969906  \n",
       "min                0.000000  \n",
       "25%             1011.900000  \n",
       "50%             1016.450000  \n",
       "75%             1021.090000  \n",
       "max             1046.380000  "
      ]
     },
     "execution_count": 593,
     "metadata": {},
     "output_type": "execute_result"
    }
   ],
   "source": [
    "data[quantitative].describe()"
   ]
  },
  {
   "cell_type": "code",
   "execution_count": 594,
   "metadata": {},
   "outputs": [
    {
     "data": {
      "text/plain": [
       "array([[<matplotlib.axes._subplots.AxesSubplot object at 0x000001E0BBBC5C88>,\n",
       "        <matplotlib.axes._subplots.AxesSubplot object at 0x000001E0B946DBC8>,\n",
       "        <matplotlib.axes._subplots.AxesSubplot object at 0x000001E0B94A0B08>],\n",
       "       [<matplotlib.axes._subplots.AxesSubplot object at 0x000001E0B94D9788>,\n",
       "        <matplotlib.axes._subplots.AxesSubplot object at 0x000001E0B950F508>,\n",
       "        <matplotlib.axes._subplots.AxesSubplot object at 0x000001E0B9546108>],\n",
       "       [<matplotlib.axes._subplots.AxesSubplot object at 0x000001E0B9A25E48>,\n",
       "        <matplotlib.axes._subplots.AxesSubplot object at 0x000001E0B9A5CBC8>,\n",
       "        <matplotlib.axes._subplots.AxesSubplot object at 0x000001E0B9A62A48>]],\n",
       "      dtype=object)"
      ]
     },
     "execution_count": 594,
     "metadata": {},
     "output_type": "execute_result"
    },
    {
     "data": {
      "image/png": "[encoded data removed]",
      "text/plain": [
       "<Figure size 648x648 with 9 Axes>"
      ]
     },
     "metadata": {
      "needs_background": "light"
     },
     "output_type": "display_data"
    }
   ],
   "source": [
    "from matplotlib.pyplot import rcParams\n",
    "rcParams['figure.figsize'] = 9, 9\n",
    "data[quantitative].hist()"
   ]
  },
  {
   "cell_type": "code",
   "execution_count": 595,
   "metadata": {},
   "outputs": [],
   "source": [
    "#Loud Cover' takes values zero. We drop it\n",
    "\n",
    "data=data.drop('Loud Cover',axis=1)"
   ]
  },
  {
   "cell_type": "code",
   "execution_count": 596,
   "metadata": {},
   "outputs": [
    {
     "data": {
      "text/plain": [
       "Formatted Date              False\n",
       "Summary                     False\n",
       "Precip Type                  True\n",
       "Temperature (C)             False\n",
       "Apparent Temperature (C)    False\n",
       "Humidity                    False\n",
       "Wind Speed (km/h)           False\n",
       "Wind Bearing (degrees)      False\n",
       "Visibility (km)             False\n",
       "Pressure (millibars)        False\n",
       "Daily Summary               False\n",
       "dtype: bool"
      ]
     },
     "execution_count": 596,
     "metadata": {},
     "output_type": "execute_result"
    }
   ],
   "source": [
    "pd.isnull(data).sum() > 0"
   ]
  },
  {
   "cell_type": "code",
   "execution_count": 597,
   "metadata": {},
   "outputs": [],
   "source": [
    "# fill missing values with mode column values\n",
    "data['Precip Type'] = data['Precip Type'].fillna(data['Precip Type'].mode()[0])"
   ]
  },
  {
   "cell_type": "code",
   "execution_count": 598,
   "metadata": {},
   "outputs": [
    {
     "data": {
      "text/plain": [
       "Formatted Date              0\n",
       "Summary                     0\n",
       "Precip Type                 0\n",
       "Temperature (C)             0\n",
       "Apparent Temperature (C)    0\n",
       "Humidity                    0\n",
       "Wind Speed (km/h)           0\n",
       "Wind Bearing (degrees)      0\n",
       "Visibility (km)             0\n",
       "Pressure (millibars)        0\n",
       "Daily Summary               0\n",
       "dtype: int64"
      ]
     },
     "execution_count": 598,
     "metadata": {},
     "output_type": "execute_result"
    }
   ],
   "source": [
    "data.isnull().sum()"
   ]
  },
  {
   "cell_type": "markdown",
   "metadata": {},
   "source": [
    "\"Pressure (millibars)\".\n",
    "\n",
    "Some observations are nil. It seems that they lack values. because the pressure does not take zero as value\n",
    "\n",
    "Let's fill the zeros with the median:"
   ]
  },
  {
   "cell_type": "code",
   "execution_count": 599,
   "metadata": {},
   "outputs": [
    {
     "data": {
      "text/plain": [
       "<matplotlib.axes._subplots.AxesSubplot at 0x1e0be462688>"
      ]
     },
     "execution_count": 599,
     "metadata": {},
     "output_type": "execute_result"
    },
    {
     "data": {
      "image/png": "[encoded data removed]",
      "text/plain": [
       "<Figure size 360x216 with 1 Axes>"
      ]
     },
     "metadata": {
      "needs_background": "light"
     },
     "output_type": "display_data"
    }
   ],
   "source": [
    "pressure_median = data['Pressure (millibars)'].median()\n",
    "      \n",
    "def pressure(x):\n",
    "    if x==0:\n",
    "        return x + pressure_median\n",
    "    else:\n",
    "        return x\n",
    "        \n",
    "data[\"Pressure (millibars)\"] = data.apply(lambda row:pressure(row[\"Pressure (millibars)\"]) , axis = 1)\n",
    "\n",
    "rcParams['figure.figsize'] = 5, 3\n",
    "data['Pressure (millibars)'].hist()"
   ]
  },
  {
   "cell_type": "markdown",
   "metadata": {},
   "source": [
    "Categorical variables"
   ]
  },
  {
   "cell_type": "code",
   "execution_count": 600,
   "metadata": {},
   "outputs": [
    {
     "data": {
      "text/plain": [
       "<matplotlib.axes._subplots.AxesSubplot at 0x1e0be45a308>"
      ]
     },
     "execution_count": 600,
     "metadata": {},
     "output_type": "execute_result"
    },
    {
     "data": {
      "image/png": "[encoded data removed]",
      "text/plain": [
       "<Figure size 576x360 with 1 Axes>"
      ]
     },
     "metadata": {
      "needs_background": "light"
     },
     "output_type": "display_data"
    }
   ],
   "source": [
    "import seaborn as sns\n",
    "rcParams['figure.figsize'] = 8, 5\n",
    "sns.countplot(y=data['Summary'])"
   ]
  },
  {
   "cell_type": "code",
   "execution_count": 601,
   "metadata": {},
   "outputs": [
    {
     "name": "stdout",
     "output_type": "stream",
     "text": [
      "The weather history dataset contains 0.0 % missing values.\n"
     ]
    }
   ],
   "source": [
    "# Calculate total number of cells in dataframe\n",
    "totalCells = np.product(data.shape)\n",
    "\n",
    "# Count number of missing values per column\n",
    "missingCount = data.isnull().sum()\n",
    "\n",
    "# Calculate total number of missing values\n",
    "totalMissing = missingCount.sum()\n",
    "\n",
    "# Calculate percentage of missing values\n",
    "print(\"The weather history dataset contains\", round(((totalMissing/totalCells) * 100), 2), \"%\", \"missing values.\")"
   ]
  },
  {
   "cell_type": "markdown",
   "metadata": {},
   "source": [
    "Convert categorical data into munerical data with Label encoding"
   ]
  },
  {
   "cell_type": "code",
   "execution_count": 602,
   "metadata": {},
   "outputs": [
    {
     "data": {
      "text/plain": [
       "array([19, 17, 18, 12,  3,  6,  5,  4, 13, 15, 23, 25,  2, 26,  0, 11, 24,\n",
       "        7,  9, 21, 14, 16,  8, 22, 10,  1, 20])"
      ]
     },
     "execution_count": 602,
     "metadata": {},
     "output_type": "execute_result"
    }
   ],
   "source": [
    "from sklearn import preprocessing \n",
    "label_encoder = preprocessing.LabelEncoder()\n",
    "data['Summary']= label_encoder.fit_transform(data['Summary']) \n",
    "\n",
    "data['Summary'].unique()"
   ]
  },
  {
   "cell_type": "code",
   "execution_count": 603,
   "metadata": {},
   "outputs": [],
   "source": [
    "data['Precip Type']= label_encoder.fit_transform(data['Precip Type'])"
   ]
  },
  {
   "cell_type": "code",
   "execution_count": 604,
   "metadata": {},
   "outputs": [
    {
     "data": {
      "text/html": [
       "<div>\n",
       "<style scoped>\n",
       "    .dataframe tbody tr th:only-of-type {\n",
       "        vertical-align: middle;\n",
       "    }\n",
       "\n",
       "    .dataframe tbody tr th {\n",
       "        vertical-align: top;\n",
       "    }\n",
       "\n",
       "    .dataframe thead th {\n",
       "        text-align: right;\n",
       "    }\n",
       "</style>\n",
       "<table border=\"1\" class=\"dataframe\">\n",
       "  <thead>\n",
       "    <tr style=\"text-align: right;\">\n",
       "      <th></th>\n",
       "      <th>Formatted Date</th>\n",
       "      <th>Summary</th>\n",
       "      <th>Precip Type</th>\n",
       "      <th>Temperature (C)</th>\n",
       "      <th>Apparent Temperature (C)</th>\n",
       "      <th>Humidity</th>\n",
       "      <th>Wind Speed (km/h)</th>\n",
       "      <th>Wind Bearing (degrees)</th>\n",
       "      <th>Visibility (km)</th>\n",
       "      <th>Pressure (millibars)</th>\n",
       "      <th>Daily Summary</th>\n",
       "    </tr>\n",
       "  </thead>\n",
       "  <tbody>\n",
       "    <tr>\n",
       "      <th>0</th>\n",
       "      <td>2006-04-01 00:00:00.000 +0200</td>\n",
       "      <td>19</td>\n",
       "      <td>0</td>\n",
       "      <td>9.472222</td>\n",
       "      <td>7.388889</td>\n",
       "      <td>0.89</td>\n",
       "      <td>14.1197</td>\n",
       "      <td>251.0</td>\n",
       "      <td>15.8263</td>\n",
       "      <td>1015.13</td>\n",
       "      <td>Partly cloudy throughout the day.</td>\n",
       "    </tr>\n",
       "    <tr>\n",
       "      <th>1</th>\n",
       "      <td>2006-04-01 01:00:00.000 +0200</td>\n",
       "      <td>19</td>\n",
       "      <td>0</td>\n",
       "      <td>9.355556</td>\n",
       "      <td>7.227778</td>\n",
       "      <td>0.86</td>\n",
       "      <td>14.2646</td>\n",
       "      <td>259.0</td>\n",
       "      <td>15.8263</td>\n",
       "      <td>1015.63</td>\n",
       "      <td>Partly cloudy throughout the day.</td>\n",
       "    </tr>\n",
       "    <tr>\n",
       "      <th>2</th>\n",
       "      <td>2006-04-01 02:00:00.000 +0200</td>\n",
       "      <td>17</td>\n",
       "      <td>0</td>\n",
       "      <td>9.377778</td>\n",
       "      <td>9.377778</td>\n",
       "      <td>0.89</td>\n",
       "      <td>3.9284</td>\n",
       "      <td>204.0</td>\n",
       "      <td>14.9569</td>\n",
       "      <td>1015.94</td>\n",
       "      <td>Partly cloudy throughout the day.</td>\n",
       "    </tr>\n",
       "    <tr>\n",
       "      <th>3</th>\n",
       "      <td>2006-04-01 03:00:00.000 +0200</td>\n",
       "      <td>19</td>\n",
       "      <td>0</td>\n",
       "      <td>8.288889</td>\n",
       "      <td>5.944444</td>\n",
       "      <td>0.83</td>\n",
       "      <td>14.1036</td>\n",
       "      <td>269.0</td>\n",
       "      <td>15.8263</td>\n",
       "      <td>1016.41</td>\n",
       "      <td>Partly cloudy throughout the day.</td>\n",
       "    </tr>\n",
       "    <tr>\n",
       "      <th>4</th>\n",
       "      <td>2006-04-01 04:00:00.000 +0200</td>\n",
       "      <td>17</td>\n",
       "      <td>0</td>\n",
       "      <td>8.755556</td>\n",
       "      <td>6.977778</td>\n",
       "      <td>0.83</td>\n",
       "      <td>11.0446</td>\n",
       "      <td>259.0</td>\n",
       "      <td>15.8263</td>\n",
       "      <td>1016.51</td>\n",
       "      <td>Partly cloudy throughout the day.</td>\n",
       "    </tr>\n",
       "  </tbody>\n",
       "</table>\n",
       "</div>"
      ],
      "text/plain": [
       "                  Formatted Date  Summary  Precip Type  Temperature (C)  \\\n",
       "0  2006-04-01 00:00:00.000 +0200       19            0         9.472222   \n",
       "1  2006-04-01 01:00:00.000 +0200       19            0         9.355556   \n",
       "2  2006-04-01 02:00:00.000 +0200       17            0         9.377778   \n",
       "3  2006-04-01 03:00:00.000 +0200       19            0         8.288889   \n",
       "4  2006-04-01 04:00:00.000 +0200       17            0         8.755556   \n",
       "\n",
       "   Apparent Temperature (C)  Humidity  Wind Speed (km/h)  \\\n",
       "0                  7.388889      0.89            14.1197   \n",
       "1                  7.227778      0.86            14.2646   \n",
       "2                  9.377778      0.89             3.9284   \n",
       "3                  5.944444      0.83            14.1036   \n",
       "4                  6.977778      0.83            11.0446   \n",
       "\n",
       "   Wind Bearing (degrees)  Visibility (km)  Pressure (millibars)  \\\n",
       "0                   251.0          15.8263               1015.13   \n",
       "1                   259.0          15.8263               1015.63   \n",
       "2                   204.0          14.9569               1015.94   \n",
       "3                   269.0          15.8263               1016.41   \n",
       "4                   259.0          15.8263               1016.51   \n",
       "\n",
       "                       Daily Summary  \n",
       "0  Partly cloudy throughout the day.  \n",
       "1  Partly cloudy throughout the day.  \n",
       "2  Partly cloudy throughout the day.  \n",
       "3  Partly cloudy throughout the day.  \n",
       "4  Partly cloudy throughout the day.  "
      ]
     },
     "execution_count": 604,
     "metadata": {},
     "output_type": "execute_result"
    }
   ],
   "source": [
    "#data['Daily Summary']= label_encoder.fit_transform(data['Daily Summary'])\n",
    "\n",
    "data.head()"
   ]
  },
  {
   "cell_type": "code",
   "execution_count": 605,
   "metadata": {},
   "outputs": [],
   "source": [
    "data.drop(['Formatted Date'],axis=1,inplace=True)"
   ]
  },
  {
   "cell_type": "code",
   "execution_count": 606,
   "metadata": {},
   "outputs": [
    {
     "data": {
      "image/png": "[encoded data removed]",
      "text/plain": [
       "<Figure size 720x720 with 2 Axes>"
      ]
     },
     "metadata": {
      "needs_background": "light"
     },
     "output_type": "display_data"
    }
   ],
   "source": [
    "#Plotting correaltion afetr conversting all categorical data into numerical\n",
    "import seaborn as sns\n",
    "import matplotlib.pyplot as plt\n",
    "import matplotlib.dates as mdates\n",
    "f,ax = plt.subplots(figsize=(10, 10))\n",
    "sns.heatmap(data.corr(), annot=True, linewidths=.5, fmt= '.1f',ax=ax)\n",
    "plt.show()"
   ]
  },
  {
   "cell_type": "code",
   "execution_count": 607,
   "metadata": {},
   "outputs": [
    {
     "data": {
      "text/html": [
       "<div>\n",
       "<style scoped>\n",
       "    .dataframe tbody tr th:only-of-type {\n",
       "        vertical-align: middle;\n",
       "    }\n",
       "\n",
       "    .dataframe tbody tr th {\n",
       "        vertical-align: top;\n",
       "    }\n",
       "\n",
       "    .dataframe thead th {\n",
       "        text-align: right;\n",
       "    }\n",
       "</style>\n",
       "<table border=\"1\" class=\"dataframe\">\n",
       "  <thead>\n",
       "    <tr style=\"text-align: right;\">\n",
       "      <th></th>\n",
       "      <th>Summary</th>\n",
       "      <th>Precip Type</th>\n",
       "      <th>Temperature (C)</th>\n",
       "      <th>Apparent Temperature (C)</th>\n",
       "      <th>Humidity</th>\n",
       "      <th>Wind Speed (km/h)</th>\n",
       "      <th>Wind Bearing (degrees)</th>\n",
       "      <th>Visibility (km)</th>\n",
       "      <th>Pressure (millibars)</th>\n",
       "      <th>Daily Summary</th>\n",
       "    </tr>\n",
       "  </thead>\n",
       "  <tbody>\n",
       "    <tr>\n",
       "      <th>0</th>\n",
       "      <td>0.686460</td>\n",
       "      <td>0</td>\n",
       "      <td>-0.257599</td>\n",
       "      <td>-0.324035</td>\n",
       "      <td>0.89</td>\n",
       "      <td>0.478635</td>\n",
       "      <td>0.591256</td>\n",
       "      <td>1.306976</td>\n",
       "      <td>1015.13</td>\n",
       "      <td>Partly cloudy throughout the day.</td>\n",
       "    </tr>\n",
       "    <tr>\n",
       "      <th>1</th>\n",
       "      <td>0.686460</td>\n",
       "      <td>0</td>\n",
       "      <td>-0.269814</td>\n",
       "      <td>-0.339097</td>\n",
       "      <td>0.86</td>\n",
       "      <td>0.499594</td>\n",
       "      <td>0.665756</td>\n",
       "      <td>1.306976</td>\n",
       "      <td>1015.63</td>\n",
       "      <td>Partly cloudy throughout the day.</td>\n",
       "    </tr>\n",
       "    <tr>\n",
       "      <th>2</th>\n",
       "      <td>0.227899</td>\n",
       "      <td>0</td>\n",
       "      <td>-0.267487</td>\n",
       "      <td>-0.138102</td>\n",
       "      <td>0.89</td>\n",
       "      <td>-0.995473</td>\n",
       "      <td>0.153570</td>\n",
       "      <td>1.099586</td>\n",
       "      <td>1015.94</td>\n",
       "      <td>Partly cloudy throughout the day.</td>\n",
       "    </tr>\n",
       "    <tr>\n",
       "      <th>3</th>\n",
       "      <td>0.686460</td>\n",
       "      <td>0</td>\n",
       "      <td>-0.381489</td>\n",
       "      <td>-0.459071</td>\n",
       "      <td>0.83</td>\n",
       "      <td>0.476306</td>\n",
       "      <td>0.758881</td>\n",
       "      <td>1.306976</td>\n",
       "      <td>1016.41</td>\n",
       "      <td>Partly cloudy throughout the day.</td>\n",
       "    </tr>\n",
       "    <tr>\n",
       "      <th>4</th>\n",
       "      <td>0.227899</td>\n",
       "      <td>0</td>\n",
       "      <td>-0.332631</td>\n",
       "      <td>-0.362469</td>\n",
       "      <td>0.83</td>\n",
       "      <td>0.033841</td>\n",
       "      <td>0.665756</td>\n",
       "      <td>1.306976</td>\n",
       "      <td>1016.51</td>\n",
       "      <td>Partly cloudy throughout the day.</td>\n",
       "    </tr>\n",
       "  </tbody>\n",
       "</table>\n",
       "</div>"
      ],
      "text/plain": [
       "    Summary  Precip Type  Temperature (C)  Apparent Temperature (C)  Humidity  \\\n",
       "0  0.686460            0        -0.257599                 -0.324035      0.89   \n",
       "1  0.686460            0        -0.269814                 -0.339097      0.86   \n",
       "2  0.227899            0        -0.267487                 -0.138102      0.89   \n",
       "3  0.686460            0        -0.381489                 -0.459071      0.83   \n",
       "4  0.227899            0        -0.332631                 -0.362469      0.83   \n",
       "\n",
       "   Wind Speed (km/h)  Wind Bearing (degrees)  Visibility (km)  \\\n",
       "0           0.478635                0.591256         1.306976   \n",
       "1           0.499594                0.665756         1.306976   \n",
       "2          -0.995473                0.153570         1.099586   \n",
       "3           0.476306                0.758881         1.306976   \n",
       "4           0.033841                0.665756         1.306976   \n",
       "\n",
       "   Pressure (millibars)                      Daily Summary  \n",
       "0               1015.13  Partly cloudy throughout the day.  \n",
       "1               1015.63  Partly cloudy throughout the day.  \n",
       "2               1015.94  Partly cloudy throughout the day.  \n",
       "3               1016.41  Partly cloudy throughout the day.  \n",
       "4               1016.51  Partly cloudy throughout the day.  "
      ]
     },
     "execution_count": 607,
     "metadata": {},
     "output_type": "execute_result"
    }
   ],
   "source": [
    "from sklearn.model_selection import train_test_split\n",
    "from sklearn.preprocessing import StandardScaler\n",
    "standardSacler = StandardScaler()\n",
    "col_to_scale = ['Wind Bearing (degrees)','Summary','Temperature (C)','Apparent Temperature (C)','Wind Speed (km/h)','Wind Bearing (degrees)','Visibility (km)']\n",
    "data[col_to_scale] = standardSacler.fit_transform(data[col_to_scale])\n",
    "data.head()"
   ]
  },
  {
   "cell_type": "code",
   "execution_count": 608,
   "metadata": {
    "scrolled": true
   },
   "outputs": [
    {
     "data": {
      "text/html": [
       "<div>\n",
       "<style scoped>\n",
       "    .dataframe tbody tr th:only-of-type {\n",
       "        vertical-align: middle;\n",
       "    }\n",
       "\n",
       "    .dataframe tbody tr th {\n",
       "        vertical-align: top;\n",
       "    }\n",
       "\n",
       "    .dataframe thead th {\n",
       "        text-align: right;\n",
       "    }\n",
       "</style>\n",
       "<table border=\"1\" class=\"dataframe\">\n",
       "  <thead>\n",
       "    <tr style=\"text-align: right;\">\n",
       "      <th></th>\n",
       "      <th>Summary</th>\n",
       "      <th>Precip Type</th>\n",
       "      <th>Temperature (C)</th>\n",
       "      <th>Apparent Temperature (C)</th>\n",
       "      <th>Humidity</th>\n",
       "      <th>Wind Speed (km/h)</th>\n",
       "      <th>Wind Bearing (degrees)</th>\n",
       "      <th>Visibility (km)</th>\n",
       "      <th>Pressure (millibars)</th>\n",
       "      <th>Daily Summary</th>\n",
       "    </tr>\n",
       "  </thead>\n",
       "  <tbody>\n",
       "    <tr>\n",
       "      <th>0</th>\n",
       "      <td>0.686460</td>\n",
       "      <td>0</td>\n",
       "      <td>-0.257599</td>\n",
       "      <td>-0.324035</td>\n",
       "      <td>0.89</td>\n",
       "      <td>0.478635</td>\n",
       "      <td>0.591256</td>\n",
       "      <td>1.306976</td>\n",
       "      <td>6.922772</td>\n",
       "      <td>Partly cloudy throughout the day.</td>\n",
       "    </tr>\n",
       "    <tr>\n",
       "      <th>1</th>\n",
       "      <td>0.686460</td>\n",
       "      <td>0</td>\n",
       "      <td>-0.269814</td>\n",
       "      <td>-0.339097</td>\n",
       "      <td>0.86</td>\n",
       "      <td>0.499594</td>\n",
       "      <td>0.665756</td>\n",
       "      <td>1.306976</td>\n",
       "      <td>6.923264</td>\n",
       "      <td>Partly cloudy throughout the day.</td>\n",
       "    </tr>\n",
       "    <tr>\n",
       "      <th>2</th>\n",
       "      <td>0.227899</td>\n",
       "      <td>0</td>\n",
       "      <td>-0.267487</td>\n",
       "      <td>-0.138102</td>\n",
       "      <td>0.89</td>\n",
       "      <td>-0.995473</td>\n",
       "      <td>0.153570</td>\n",
       "      <td>1.099586</td>\n",
       "      <td>6.923570</td>\n",
       "      <td>Partly cloudy throughout the day.</td>\n",
       "    </tr>\n",
       "    <tr>\n",
       "      <th>3</th>\n",
       "      <td>0.686460</td>\n",
       "      <td>0</td>\n",
       "      <td>-0.381489</td>\n",
       "      <td>-0.459071</td>\n",
       "      <td>0.83</td>\n",
       "      <td>0.476306</td>\n",
       "      <td>0.758881</td>\n",
       "      <td>1.306976</td>\n",
       "      <td>6.924032</td>\n",
       "      <td>Partly cloudy throughout the day.</td>\n",
       "    </tr>\n",
       "    <tr>\n",
       "      <th>4</th>\n",
       "      <td>0.227899</td>\n",
       "      <td>0</td>\n",
       "      <td>-0.332631</td>\n",
       "      <td>-0.362469</td>\n",
       "      <td>0.83</td>\n",
       "      <td>0.033841</td>\n",
       "      <td>0.665756</td>\n",
       "      <td>1.306976</td>\n",
       "      <td>6.924130</td>\n",
       "      <td>Partly cloudy throughout the day.</td>\n",
       "    </tr>\n",
       "  </tbody>\n",
       "</table>\n",
       "</div>"
      ],
      "text/plain": [
       "    Summary  Precip Type  Temperature (C)  Apparent Temperature (C)  Humidity  \\\n",
       "0  0.686460            0        -0.257599                 -0.324035      0.89   \n",
       "1  0.686460            0        -0.269814                 -0.339097      0.86   \n",
       "2  0.227899            0        -0.267487                 -0.138102      0.89   \n",
       "3  0.686460            0        -0.381489                 -0.459071      0.83   \n",
       "4  0.227899            0        -0.332631                 -0.362469      0.83   \n",
       "\n",
       "   Wind Speed (km/h)  Wind Bearing (degrees)  Visibility (km)  \\\n",
       "0           0.478635                0.591256         1.306976   \n",
       "1           0.499594                0.665756         1.306976   \n",
       "2          -0.995473                0.153570         1.099586   \n",
       "3           0.476306                0.758881         1.306976   \n",
       "4           0.033841                0.665756         1.306976   \n",
       "\n",
       "   Pressure (millibars)                      Daily Summary  \n",
       "0              6.922772  Partly cloudy throughout the day.  \n",
       "1              6.923264  Partly cloudy throughout the day.  \n",
       "2              6.923570  Partly cloudy throughout the day.  \n",
       "3              6.924032  Partly cloudy throughout the day.  \n",
       "4              6.924130  Partly cloudy throughout the day.  "
      ]
     },
     "execution_count": 608,
     "metadata": {},
     "output_type": "execute_result"
    }
   ],
   "source": [
    "data['Pressure (millibars)'] = (np.log(data['Pressure (millibars)']))\n",
    "#data['Wind Bearing (degrees)'] = (np.log(data['Wind Bearing (degrees)']))\n",
    "data.head()"
   ]
  },
  {
   "cell_type": "code",
   "execution_count": 609,
   "metadata": {},
   "outputs": [
    {
     "data": {
      "text/html": [
       "<div>\n",
       "<style scoped>\n",
       "    .dataframe tbody tr th:only-of-type {\n",
       "        vertical-align: middle;\n",
       "    }\n",
       "\n",
       "    .dataframe tbody tr th {\n",
       "        vertical-align: top;\n",
       "    }\n",
       "\n",
       "    .dataframe thead th {\n",
       "        text-align: right;\n",
       "    }\n",
       "</style>\n",
       "<table border=\"1\" class=\"dataframe\">\n",
       "  <thead>\n",
       "    <tr style=\"text-align: right;\">\n",
       "      <th></th>\n",
       "      <th>Summary</th>\n",
       "      <th>Precip Type</th>\n",
       "      <th>Temperature (C)</th>\n",
       "      <th>Apparent Temperature (C)</th>\n",
       "      <th>Humidity</th>\n",
       "      <th>Wind Speed (km/h)</th>\n",
       "      <th>Wind Bearing (degrees)</th>\n",
       "      <th>Visibility (km)</th>\n",
       "      <th>Pressure (millibars)</th>\n",
       "    </tr>\n",
       "  </thead>\n",
       "  <tbody>\n",
       "    <tr>\n",
       "      <th>count</th>\n",
       "      <td>9.645300e+04</td>\n",
       "      <td>96453.000000</td>\n",
       "      <td>9.645300e+04</td>\n",
       "      <td>9.645300e+04</td>\n",
       "      <td>96453.000000</td>\n",
       "      <td>9.645300e+04</td>\n",
       "      <td>9.645300e+04</td>\n",
       "      <td>9.645300e+04</td>\n",
       "      <td>96453.000000</td>\n",
       "    </tr>\n",
       "    <tr>\n",
       "      <th>mean</th>\n",
       "      <td>-2.693717e-15</td>\n",
       "      <td>0.111059</td>\n",
       "      <td>1.828525e-16</td>\n",
       "      <td>7.205578e-19</td>\n",
       "      <td>0.734899</td>\n",
       "      <td>-7.966768e-17</td>\n",
       "      <td>3.420002e-16</td>\n",
       "      <td>-5.690006e-15</td>\n",
       "      <td>6.924396</td>\n",
       "    </tr>\n",
       "    <tr>\n",
       "      <th>std</th>\n",
       "      <td>1.000005e+00</td>\n",
       "      <td>0.314207</td>\n",
       "      <td>1.000005e+00</td>\n",
       "      <td>1.000005e+00</td>\n",
       "      <td>0.195473</td>\n",
       "      <td>1.000005e+00</td>\n",
       "      <td>1.000005e+00</td>\n",
       "      <td>1.000005e+00</td>\n",
       "      <td>0.007597</td>\n",
       "    </tr>\n",
       "    <tr>\n",
       "      <th>min</th>\n",
       "      <td>-3.669865e+00</td>\n",
       "      <td>0.000000</td>\n",
       "      <td>-3.533991e+00</td>\n",
       "      <td>-3.605912e+00</td>\n",
       "      <td>0.000000</td>\n",
       "      <td>-1.563692e+00</td>\n",
       "      <td>-1.746175e+00</td>\n",
       "      <td>-2.468291e+00</td>\n",
       "      <td>6.881185</td>\n",
       "    </tr>\n",
       "    <tr>\n",
       "      <th>25%</th>\n",
       "      <td>2.278991e-01</td>\n",
       "      <td>0.000000</td>\n",
       "      <td>-7.583931e-01</td>\n",
       "      <td>-7.987365e-01</td>\n",
       "      <td>0.600000</td>\n",
       "      <td>-7.206791e-01</td>\n",
       "      <td>-6.659277e-01</td>\n",
       "      <td>-4.788827e-01</td>\n",
       "      <td>6.919881</td>\n",
       "    </tr>\n",
       "    <tr>\n",
       "      <th>50%</th>\n",
       "      <td>4.571794e-01</td>\n",
       "      <td>0.000000</td>\n",
       "      <td>7.048274e-03</td>\n",
       "      <td>1.070387e-01</td>\n",
       "      <td>0.780000</td>\n",
       "      <td>-1.221864e-01</td>\n",
       "      <td>-6.992952e-02</td>\n",
       "      <td>-7.178379e-02</td>\n",
       "      <td>6.924071</td>\n",
       "    </tr>\n",
       "    <tr>\n",
       "      <th>75%</th>\n",
       "      <td>6.864596e-01</td>\n",
       "      <td>0.000000</td>\n",
       "      <td>7.230501e-01</td>\n",
       "      <td>7.463789e-01</td>\n",
       "      <td>0.890000</td>\n",
       "      <td>4.809638e-01</td>\n",
       "      <td>9.544424e-01</td>\n",
       "      <td>1.065021e+00</td>\n",
       "      <td>6.928626</td>\n",
       "    </tr>\n",
       "    <tr>\n",
       "      <th>max</th>\n",
       "      <td>2.291421e+00</td>\n",
       "      <td>1.000000</td>\n",
       "      <td>2.928638e+00</td>\n",
       "      <td>2.663361e+00</td>\n",
       "      <td>1.000000</td>\n",
       "      <td>7.672191e+00</td>\n",
       "      <td>1.597003e+00</td>\n",
       "      <td>1.372265e+00</td>\n",
       "      <td>6.953092</td>\n",
       "    </tr>\n",
       "  </tbody>\n",
       "</table>\n",
       "</div>"
      ],
      "text/plain": [
       "            Summary   Precip Type  Temperature (C)  Apparent Temperature (C)  \\\n",
       "count  9.645300e+04  96453.000000     9.645300e+04              9.645300e+04   \n",
       "mean  -2.693717e-15      0.111059     1.828525e-16              7.205578e-19   \n",
       "std    1.000005e+00      0.314207     1.000005e+00              1.000005e+00   \n",
       "min   -3.669865e+00      0.000000    -3.533991e+00             -3.605912e+00   \n",
       "25%    2.278991e-01      0.000000    -7.583931e-01             -7.987365e-01   \n",
       "50%    4.571794e-01      0.000000     7.048274e-03              1.070387e-01   \n",
       "75%    6.864596e-01      0.000000     7.230501e-01              7.463789e-01   \n",
       "max    2.291421e+00      1.000000     2.928638e+00              2.663361e+00   \n",
       "\n",
       "           Humidity  Wind Speed (km/h)  Wind Bearing (degrees)  \\\n",
       "count  96453.000000       9.645300e+04            9.645300e+04   \n",
       "mean       0.734899      -7.966768e-17            3.420002e-16   \n",
       "std        0.195473       1.000005e+00            1.000005e+00   \n",
       "min        0.000000      -1.563692e+00           -1.746175e+00   \n",
       "25%        0.600000      -7.206791e-01           -6.659277e-01   \n",
       "50%        0.780000      -1.221864e-01           -6.992952e-02   \n",
       "75%        0.890000       4.809638e-01            9.544424e-01   \n",
       "max        1.000000       7.672191e+00            1.597003e+00   \n",
       "\n",
       "       Visibility (km)  Pressure (millibars)  \n",
       "count     9.645300e+04          96453.000000  \n",
       "mean     -5.690006e-15              6.924396  \n",
       "std       1.000005e+00              0.007597  \n",
       "min      -2.468291e+00              6.881185  \n",
       "25%      -4.788827e-01              6.919881  \n",
       "50%      -7.178379e-02              6.924071  \n",
       "75%       1.065021e+00              6.928626  \n",
       "max       1.372265e+00              6.953092  "
      ]
     },
     "execution_count": 609,
     "metadata": {},
     "output_type": "execute_result"
    }
   ],
   "source": [
    "data.describe()"
   ]
  },
  {
   "cell_type": "code",
   "execution_count": 610,
   "metadata": {
    "scrolled": true
   },
   "outputs": [
    {
     "data": {
      "image/png": "[encoded data removed]",
      "text/plain": [
       "<Figure size 576x360 with 1 Axes>"
      ]
     },
     "metadata": {
      "needs_background": "light"
     },
     "output_type": "display_data"
    }
   ],
   "source": [
    "import seaborn as sns\n",
    "median = float(data['Wind Speed (km/h)'].median())\n",
    "data[\"Wind Speed (km/h)\"] = np.where(data[\"Wind Speed (km/h)\"] > median, median, data['Wind Speed (km/h)'])\n",
    "ax = sns.boxplot(x=data[\"Wind Speed (km/h)\"])\n"
   ]
  },
  {
   "cell_type": "code",
   "execution_count": 611,
   "metadata": {},
   "outputs": [
    {
     "data": {
      "image/png": "[encoded data removed]",
      "text/plain": [
       "<Figure size 576x360 with 1 Axes>"
      ]
     },
     "metadata": {
      "needs_background": "light"
     },
     "output_type": "display_data"
    }
   ],
   "source": [
    "import seaborn as sns\n",
    "from scipy import stats\n",
    "Q1 = data['Pressure (millibars)'].quantile(0.25)\n",
    "Q3 = data['Pressure (millibars)'].quantile(0.75)\n",
    "IQR = Q3-Q1\n",
    "data['Pressure (millibars)'] = np.where(((data['Pressure (millibars)']< (Q1-1.5*IQR) )| (data['Pressure (millibars)']>(Q3+ 1.5 *IQR))),data['Pressure (millibars)'].median(), data['Pressure (millibars)'])\n",
    "\n",
    "\n",
    "ax = sns.boxplot(x=data[\"Pressure (millibars)\"])\n"
   ]
  },
  {
   "cell_type": "code",
   "execution_count": 612,
   "metadata": {},
   "outputs": [
    {
     "data": {
      "image/png": "[encoded data removed]",
      "text/plain": [
       "<Figure size 576x360 with 1 Axes>"
      ]
     },
     "metadata": {
      "needs_background": "light"
     },
     "output_type": "display_data"
    }
   ],
   "source": [
    "\n",
    "Q1 = data['Humidity'].quantile(0.25)\n",
    "Q3 = data['Humidity'].quantile(0.75)\n",
    "IQR = Q3-Q1\n",
    "data['Humidity'] = np.where(((data['Humidity']< (Q1-1.5*IQR) )| (data['Humidity']>(Q3+ 1.5 *IQR))),data['Humidity'].median(), data['Humidity'])\n",
    "ax = sns.boxplot(x=data[\"Humidity\"])"
   ]
  },
  {
   "cell_type": "code",
   "execution_count": 613,
   "metadata": {},
   "outputs": [
    {
     "data": {
      "image/png": "[encoded data removed]",
      "text/plain": [
       "<Figure size 576x360 with 1 Axes>"
      ]
     },
     "metadata": {
      "needs_background": "light"
     },
     "output_type": "display_data"
    }
   ],
   "source": [
    "import seaborn as sns\n",
    "Q1 = data['Apparent Temperature (C)'].quantile(0.25)\n",
    "Q3 = data['Apparent Temperature (C)'].quantile(0.75)\n",
    "IQR = Q3-Q1\n",
    "data['Apparent Temperature (C)'] = np.where(((data['Apparent Temperature (C)']< (Q1-1.5*IQR) )| (data['Apparent Temperature (C)']>(Q3+ 1.5 *IQR))),data['Apparent Temperature (C)'].median(), data['Apparent Temperature (C)'])\n",
    "ax = sns.boxplot(x=data[\"Apparent Temperature (C)\"])"
   ]
  },
  {
   "cell_type": "code",
   "execution_count": 614,
   "metadata": {},
   "outputs": [],
   "source": [
    "Q1 = data['Summary'].quantile(0.25)\n",
    "Q3 = data['Summary'].quantile(0.75)\n",
    "IQR = Q3-Q1\n",
    "\n",
    "data['Summary'] = np.where(((data['Summary']< (Q1-1.5*IQR) )| (data['Summary']>(Q3+ 1.5 *IQR))),data.Summary.median(), data['Summary'])\n"
   ]
  },
  {
   "cell_type": "code",
   "execution_count": 615,
   "metadata": {},
   "outputs": [
    {
     "data": {
      "image/png": "[encoded data removed]",
      "text/plain": [
       "<Figure size 576x360 with 1 Axes>"
      ]
     },
     "metadata": {
      "needs_background": "light"
     },
     "output_type": "display_data"
    }
   ],
   "source": [
    "import seaborn as sns\n",
    "ax = sns.boxplot(x=data[\"Summary\"])"
   ]
  },
  {
   "cell_type": "code",
   "execution_count": 616,
   "metadata": {},
   "outputs": [],
   "source": [
    "#data=data.drop('Pressure (millibars)',axis=1)"
   ]
  },
  {
   "cell_type": "code",
   "execution_count": 617,
   "metadata": {},
   "outputs": [
    {
     "data": {
      "image/png": "[encoded data removed]",
      "text/plain": [
       "<Figure size 576x360 with 1 Axes>"
      ]
     },
     "metadata": {
      "needs_background": "light"
     },
     "output_type": "display_data"
    }
   ],
   "source": [
    "Q1 = data['Temperature (C)'].quantile(0.25)\n",
    "Q3 = data['Temperature (C)'].quantile(0.75)\n",
    "IQR = Q3-Q1\n",
    "\n",
    "data['Temperature (C)'] = np.where(((data['Temperature (C)']< (Q1-1.5*IQR) )| (data['Temperature (C)']>(Q3+ 1.5 *IQR))),data['Temperature (C)'].median(), data['Temperature (C)'])\n",
    "\n",
    "ax = sns.boxplot(x=data[\"Temperature (C)\"])"
   ]
  },
  {
   "cell_type": "code",
   "execution_count": 618,
   "metadata": {
    "scrolled": true
   },
   "outputs": [
    {
     "name": "stdout",
     "output_type": "stream",
     "text": [
      "Accuracy :  0.2549764998617639\n"
     ]
    }
   ],
   "source": [
    "from sklearn.model_selection import train_test_split\n",
    "from sklearn.datasets import make_classification\n",
    "from sklearn import metrics\n",
    "from sklearn.model_selection import KFold\n",
    "from sklearn.metrics import accuracy_score\n",
    "from sklearn import model_selection\n",
    "from sklearn.linear_model import LogisticRegression\n",
    "from sklearn.svm import SVC\n",
    "from numpy import mean\n",
    "from numpy import std\n",
    "import warnings\n",
    "warnings.filterwarnings('ignore')\n",
    "\n",
    "X = data.drop('Daily Summary', axis=1)\n",
    "y = data['Daily Summary']\n",
    "X_train, X_test, y_train, y_test = train_test_split(X, y, test_size=0.3, random_state=128)\n",
    "model = LogisticRegression()\n",
    "model.fit(X_train,y_train)\n",
    "pred = model.predict(X_test) \n",
    "print (\"Accuracy : \", accuracy_score(y_test, pred))\n",
    "\n",
    "#kfold = model_selection.KFold(n_splits=10,shuffle= True, random_state=100)\n",
    "#model_kfold = LogisticRegression()\n",
    "#results_kfold = model_selection.cross_val_score(model_kfold, X, y, cv=kfold)\n",
    "\n",
    "#print(\"Accuracy: %.2f%%\" % (results_kfold.mean()*100.0)) \n",
    "#from sklearn.metrics import confusion_matrix\n",
    "#cm = confusion_matrix(y_test, y_pred)\n",
    "#from sklearn.metrics import accuracy_score \n",
    "#print (\"Accuracy : \", accuracy_score(y_test, y_pred))\n",
    "#cm\n",
    "\n"
   ]
  },
  {
   "cell_type": "code",
   "execution_count": null,
   "metadata": {},
   "outputs": [],
   "source": [
    "\n"
   ]
  }
 ],
 "metadata": {
  "kernelspec": {
   "display_name": "Python 3",
   "language": "python",
   "name": "python3"
  },
  "language_info": {
   "codemirror_mode": {
    "name": "ipython",
    "version": 3
   },
   "file_extension": ".py",
   "mimetype": "text/x-python",
   "name": "python",
   "nbconvert_exporter": "python",
   "pygments_lexer": "ipython3",
   "version": "3.7.6"
  }
 },
 "nbformat": 4,
 "nbformat_minor": 4
}
